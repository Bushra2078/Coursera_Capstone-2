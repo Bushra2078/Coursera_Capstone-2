{
 "cells": [
  {
   "cell_type": "markdown",
   "metadata": {},
   "source": [
    "# Everything from Part2 of the assignment"
   ]
  },
  {
   "cell_type": "code",
   "execution_count": 1,
   "metadata": {},
   "outputs": [],
   "source": [
    "import geocoder\n",
    "import pandas as pd\n",
    "data = pd.read_csv(\"neighborhoods.csv\")\n",
    "postcode = pd.read_csv(\"Geospatial_Coordinates.csv\")\n",
    "lat = []\n",
    "lon = []\n",
    "for i in range(len(data['PostalCode'])):\n",
    "    for j in range(len(postcode['Postal Code'])):\n",
    "        if data.loc[i,'PostalCode'] == postcode.loc[j,'Postal Code']:\n",
    "            lat.append(postcode.loc[j,'Latitude'])\n",
    "            lon.append(postcode.loc[j,'Longitude'])\n",
    "data['Latitude'] = lat\n",
    "data['Longitude'] = lon\n",
    "data = data.drop('Unnamed: 0',axis = 1)"
   ]
  },
  {
   "cell_type": "markdown",
   "metadata": {},
   "source": [
    "## Checking the dadaframe before going forward"
   ]
  },
  {
   "cell_type": "code",
   "execution_count": 2,
   "metadata": {},
   "outputs": [
    {
     "data": {
      "text/html": [
       "<div>\n",
       "<style scoped>\n",
       "    .dataframe tbody tr th:only-of-type {\n",
       "        vertical-align: middle;\n",
       "    }\n",
       "\n",
       "    .dataframe tbody tr th {\n",
       "        vertical-align: top;\n",
       "    }\n",
       "\n",
       "    .dataframe thead th {\n",
       "        text-align: right;\n",
       "    }\n",
       "</style>\n",
       "<table border=\"1\" class=\"dataframe\">\n",
       "  <thead>\n",
       "    <tr style=\"text-align: right;\">\n",
       "      <th></th>\n",
       "      <th>PostalCode</th>\n",
       "      <th>Borough</th>\n",
       "      <th>Neighborhood</th>\n",
       "      <th>Latitude</th>\n",
       "      <th>Longitude</th>\n",
       "    </tr>\n",
       "  </thead>\n",
       "  <tbody>\n",
       "    <tr>\n",
       "      <th>0</th>\n",
       "      <td>M3A</td>\n",
       "      <td>North York</td>\n",
       "      <td>Parkwoods</td>\n",
       "      <td>43.753259</td>\n",
       "      <td>-79.329656</td>\n",
       "    </tr>\n",
       "    <tr>\n",
       "      <th>1</th>\n",
       "      <td>M4A</td>\n",
       "      <td>North York</td>\n",
       "      <td>Victoria Village</td>\n",
       "      <td>43.725882</td>\n",
       "      <td>-79.315572</td>\n",
       "    </tr>\n",
       "    <tr>\n",
       "      <th>2</th>\n",
       "      <td>M5A</td>\n",
       "      <td>Downtown Toronto</td>\n",
       "      <td>Regent Park,Harbourfront</td>\n",
       "      <td>43.654260</td>\n",
       "      <td>-79.360636</td>\n",
       "    </tr>\n",
       "    <tr>\n",
       "      <th>3</th>\n",
       "      <td>M6A</td>\n",
       "      <td>North York</td>\n",
       "      <td>Lawrence Manor,Lawrence Heights</td>\n",
       "      <td>43.718518</td>\n",
       "      <td>-79.464763</td>\n",
       "    </tr>\n",
       "    <tr>\n",
       "      <th>4</th>\n",
       "      <td>M7A</td>\n",
       "      <td>Queen's Park</td>\n",
       "      <td>Queen's Park</td>\n",
       "      <td>43.662301</td>\n",
       "      <td>-79.389494</td>\n",
       "    </tr>\n",
       "    <tr>\n",
       "      <th>5</th>\n",
       "      <td>M9A</td>\n",
       "      <td>Etobicoke</td>\n",
       "      <td>Islington Avenue</td>\n",
       "      <td>43.667856</td>\n",
       "      <td>-79.532242</td>\n",
       "    </tr>\n",
       "    <tr>\n",
       "      <th>6</th>\n",
       "      <td>M1B</td>\n",
       "      <td>Scarborough</td>\n",
       "      <td>Malvern,Rouge</td>\n",
       "      <td>43.806686</td>\n",
       "      <td>-79.194353</td>\n",
       "    </tr>\n",
       "    <tr>\n",
       "      <th>7</th>\n",
       "      <td>M3B</td>\n",
       "      <td>North York</td>\n",
       "      <td>Don Mills North</td>\n",
       "      <td>43.745906</td>\n",
       "      <td>-79.352188</td>\n",
       "    </tr>\n",
       "    <tr>\n",
       "      <th>8</th>\n",
       "      <td>M4B</td>\n",
       "      <td>East York</td>\n",
       "      <td>Parkview Hill,Woodbine Gardens</td>\n",
       "      <td>43.706397</td>\n",
       "      <td>-79.309937</td>\n",
       "    </tr>\n",
       "    <tr>\n",
       "      <th>9</th>\n",
       "      <td>M5B</td>\n",
       "      <td>Downtown Toronto</td>\n",
       "      <td>Garden District,Ryerson</td>\n",
       "      <td>43.657162</td>\n",
       "      <td>-79.378937</td>\n",
       "    </tr>\n",
       "  </tbody>\n",
       "</table>\n",
       "</div>"
      ],
      "text/plain": [
       "  PostalCode           Borough                     Neighborhood   Latitude  \\\n",
       "0        M3A        North York                        Parkwoods  43.753259   \n",
       "1        M4A        North York                 Victoria Village  43.725882   \n",
       "2        M5A  Downtown Toronto         Regent Park,Harbourfront  43.654260   \n",
       "3        M6A        North York  Lawrence Manor,Lawrence Heights  43.718518   \n",
       "4        M7A      Queen's Park                     Queen's Park  43.662301   \n",
       "5        M9A         Etobicoke                 Islington Avenue  43.667856   \n",
       "6        M1B       Scarborough                    Malvern,Rouge  43.806686   \n",
       "7        M3B        North York                  Don Mills North  43.745906   \n",
       "8        M4B         East York   Parkview Hill,Woodbine Gardens  43.706397   \n",
       "9        M5B  Downtown Toronto          Garden District,Ryerson  43.657162   \n",
       "\n",
       "   Longitude  \n",
       "0 -79.329656  \n",
       "1 -79.315572  \n",
       "2 -79.360636  \n",
       "3 -79.464763  \n",
       "4 -79.389494  \n",
       "5 -79.532242  \n",
       "6 -79.194353  \n",
       "7 -79.352188  \n",
       "8 -79.309937  \n",
       "9 -79.378937  "
      ]
     },
     "execution_count": 2,
     "metadata": {},
     "output_type": "execute_result"
    }
   ],
   "source": [
    "data.head(10)"
   ]
  },
  {
   "cell_type": "markdown",
   "metadata": {},
   "source": [
    "## Everything looks good so we can start clustering now."
   ]
  },
  {
   "cell_type": "markdown",
   "metadata": {},
   "source": [
    "# 1. Import the necessary modules"
   ]
  },
  {
   "cell_type": "code",
   "execution_count": 3,
   "metadata": {},
   "outputs": [
    {
     "name": "stdout",
     "output_type": "stream",
     "text": [
      "Libraries imported.....\n"
     ]
    }
   ],
   "source": [
    "import numpy as np # library to handle data in a vectorized manner\n",
    "\n",
    "import pandas as pd # library for data analsysis\n",
    "pd.set_option('display.max_columns', None)\n",
    "pd.set_option('display.max_rows', None)\n",
    "\n",
    "import json # library to handle JSON files\n",
    "\n",
    "#!conda install -c conda-forge geopy --yes # uncomment this line if you haven't completed the Foursquare API lab\n",
    "from geopy.geocoders import Nominatim # convert an address into latitude and longitude values\n",
    "\n",
    "import requests # library to handle requests\n",
    "from pandas.io.json import json_normalize # tranform JSON file into a pandas dataframe\n",
    "\n",
    "# Matplotlib and associated plotting modules\n",
    "import matplotlib.cm as cm\n",
    "import matplotlib.colors as colors\n",
    "\n",
    "# import k-means from clustering stage\n",
    "from sklearn.cluster import KMeans\n",
    "\n",
    "#!conda install -c conda-forge folium=0.5.0 --yes # uncomment this line if you haven't completed the Foursquare API lab\n",
    "import folium # map rendering library\n",
    "\n",
    "print('Libraries imported.....')"
   ]
  },
  {
   "cell_type": "markdown",
   "metadata": {},
   "source": [
    "# 2. Use geopy library to get the latitude and longitude values of Toronto City."
   ]
  },
  {
   "cell_type": "code",
   "execution_count": 4,
   "metadata": {},
   "outputs": [
    {
     "name": "stderr",
     "output_type": "stream",
     "text": [
      "/anaconda3/lib/python3.6/site-packages/ipykernel_launcher.py:3: DeprecationWarning: Using Nominatim with the default \"geopy/1.18.1\" `user_agent` is strongly discouraged, as it violates Nominatim's ToS https://operations.osmfoundation.org/policies/nominatim/ and may possibly cause 403 and 429 HTTP errors. Please specify a custom `user_agent` with `Nominatim(user_agent=\"my-application\")` or by overriding the default `user_agent`: `geopy.geocoders.options.default_user_agent = \"my-application\"`. In geopy 2.0 this will become an exception.\n",
      "  This is separate from the ipykernel package so we can avoid doing imports until\n"
     ]
    },
    {
     "name": "stdout",
     "output_type": "stream",
     "text": [
      "The geograpical coordinate of Toronto are 43.653963, -79.387207.\n"
     ]
    }
   ],
   "source": [
    "address = 'Toronto, Ontario'\n",
    "\n",
    "geolocator = Nominatim()\n",
    "location = geolocator.geocode(address)\n",
    "latitude = location.latitude\n",
    "longitude = location.longitude\n",
    "print('The geograpical coordinate of Toronto are {}, {}.'.format(latitude, longitude))"
   ]
  },
  {
   "cell_type": "markdown",
   "metadata": {},
   "source": [
    "# 3. Create a map of Toronto with neighborhoods superimposed on top."
   ]
  },
  {
   "cell_type": "code",
   "execution_count": 5,
   "metadata": {},
   "outputs": [
    {
     "data": {
      "text/html": [
       "<div style=\"width:100%;\"><div style=\"position:relative;width:100%;height:0;padding-bottom:60%;\"><iframe src=\"data:text/html;charset=utf-8;base64,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\" style=\"position:absolute;width:100%;height:100%;left:0;top:0;border:none !important;\" allowfullscreen webkitallowfullscreen mozallowfullscreen></iframe></div></div>"
      ],
      "text/plain": [
       "<folium.folium.Map at 0x10a9f1e10>"
      ]
     },
     "execution_count": 5,
     "metadata": {},
     "output_type": "execute_result"
    }
   ],
   "source": [
    "# create map of Manhattan using latitude and longitude values\n",
    "map_toronto = folium.Map(location=[latitude, longitude], zoom_start=11)\n",
    "\n",
    "# add markers to map\n",
    "for lat, lng, borough, neighborhood,code in zip(data['Latitude'], data['Longitude'], data['Borough'], data['Neighborhood'], data['PostalCode']):\n",
    "    label = '{},Borough : {}, Postal-Code :{}'.format(neighborhood, borough, code)\n",
    "    label = folium.Popup(label, parse_html=True)\n",
    "    folium.CircleMarker(\n",
    "        [lat, lng],\n",
    "        radius=5,\n",
    "        popup=label,\n",
    "        color='blue',\n",
    "        fill=True,\n",
    "        fill_color='#3186cc',\n",
    "        fill_opacity=0.7,\n",
    "        parse_html=False).add_to(map_toronto)  \n",
    "    \n",
    "map_toronto"
   ]
  },
  {
   "cell_type": "markdown",
   "metadata": {},
   "source": [
    "# 4. Now that it is done we can start using the Foursquare API "
   ]
  },
  {
   "cell_type": "code",
   "execution_count": 10,
   "metadata": {},
   "outputs": [],
   "source": [
    "CLIENT_ID = 'J5D0K1WE2SCLGSCHLQQNNJSCW0VTWEPQ3SOCO5FTQ00U3NMU' # your Foursquare ID\n",
    "CLIENT_SECRET = 'B3S2Q3MWGMBYO4ASTYTTGDIZMZRISSTXZF1WTPZBGJJVZX14' # your Foursquare Secret\n",
    "VERSION = '20180604'\n",
    "#CLIENT_ID = '*********' # your Foursquare ID\n",
    "#CLIENT_SECRET = '*****' # your Foursquare Secret\n",
    "#VERSION = '***********' # Version                  #deleted because contains sensitive data\n",
    "LIMIT = 100"
   ]
  },
  {
   "cell_type": "markdown",
   "metadata": {},
   "source": [
    "# 5. Define the function to extract the category from the venues json data"
   ]
  },
  {
   "cell_type": "code",
   "execution_count": 11,
   "metadata": {},
   "outputs": [],
   "source": [
    "# function that extracts the category of the venue\n",
    "def get_category_type(row):\n",
    "    try:\n",
    "        categories_list = row['categories']\n",
    "    except:\n",
    "        categories_list = row['venue.categories']\n",
    "        \n",
    "    if len(categories_list) == 0:\n",
    "        return None\n",
    "    else:\n",
    "        return categories_list[0]['name']"
   ]
  },
  {
   "cell_type": "markdown",
   "metadata": {},
   "source": [
    "# 6. Time to explore the neighborhoods in Toronto"
   ]
  },
  {
   "cell_type": "code",
   "execution_count": 14,
   "metadata": {},
   "outputs": [],
   "source": [
    "# Here we shall restrict our exploration within 500 meters radius of the neiughborhoods\n",
    "def getNearbyVenues(names, latitudes, longitudes, radius=500):\n",
    "#    count = 0\n",
    "    venues_list=[]\n",
    "    for name, lat, lng in zip(names, latitudes, longitudes):\n",
    "#        count+=1\n",
    "#        print(count,name)\n",
    "            \n",
    "        # create the API request URL\n",
    "        url = 'https://api.foursquare.com/v2/venues/explore?&client_id={}&client_secret={}&v={}&ll={},{}&radius={}&limit={}'.format(\n",
    "            CLIENT_ID, \n",
    "            CLIENT_SECRET, \n",
    "            VERSION, \n",
    "            lat, \n",
    "            lng, \n",
    "            radius, \n",
    "            LIMIT)\n",
    "            \n",
    "        # make the GET request\n",
    "        results = requests.get(url).json()[\"response\"]['groups'][0]['items']\n",
    "        \n",
    "        # return only relevant information for each nearby venue\n",
    "        venues_list.append([(\n",
    "            name, \n",
    "            lat, \n",
    "            lng, \n",
    "            v['venue']['name'], \n",
    "            v['venue']['location']['lat'], \n",
    "            v['venue']['location']['lng'],  \n",
    "            v['venue']['categories'][0]['name']) for v in results])\n",
    "\n",
    "    nearby_venues = pd.DataFrame([item for venue_list in venues_list for item in venue_list])\n",
    "    nearby_venues.columns = ['Neighborhood', \n",
    "                  'Neighborhood Latitude', \n",
    "                  'Neighborhood Longitude', \n",
    "                  'Venue', \n",
    "                  'Venue Latitude', \n",
    "                  'Venue Longitude', \n",
    "                  'Venue Category']\n",
    "    \n",
    "    return(nearby_venues)"
   ]
  },
  {
   "cell_type": "markdown",
   "metadata": {},
   "source": [
    "# 7. Create the Dataframe that has all the data about the Neighborhoods and the venues within the 500 metres radius of the Neighborhood."
   ]
  },
  {
   "cell_type": "code",
   "execution_count": 15,
   "metadata": {
    "scrolled": true
   },
   "outputs": [],
   "source": [
    "toronto_venues = getNearbyVenues(names = data['Neighborhood'], \n",
    "                                   latitudes = data['Latitude'], \n",
    "                                   longitudes = data['Longitude'])"
   ]
  },
  {
   "cell_type": "code",
   "execution_count": 16,
   "metadata": {
    "scrolled": true
   },
   "outputs": [
    {
     "data": {
      "text/html": [
       "<div>\n",
       "<style scoped>\n",
       "    .dataframe tbody tr th:only-of-type {\n",
       "        vertical-align: middle;\n",
       "    }\n",
       "\n",
       "    .dataframe tbody tr th {\n",
       "        vertical-align: top;\n",
       "    }\n",
       "\n",
       "    .dataframe thead th {\n",
       "        text-align: right;\n",
       "    }\n",
       "</style>\n",
       "<table border=\"1\" class=\"dataframe\">\n",
       "  <thead>\n",
       "    <tr style=\"text-align: right;\">\n",
       "      <th></th>\n",
       "      <th>Neighborhood</th>\n",
       "      <th>Neighborhood Latitude</th>\n",
       "      <th>Neighborhood Longitude</th>\n",
       "      <th>Venue</th>\n",
       "      <th>Venue Latitude</th>\n",
       "      <th>Venue Longitude</th>\n",
       "      <th>Venue Category</th>\n",
       "    </tr>\n",
       "  </thead>\n",
       "  <tbody>\n",
       "    <tr>\n",
       "      <th>0</th>\n",
       "      <td>Parkwoods</td>\n",
       "      <td>43.753259</td>\n",
       "      <td>-79.329656</td>\n",
       "      <td>Brookbanks Park</td>\n",
       "      <td>43.751976</td>\n",
       "      <td>-79.332140</td>\n",
       "      <td>Park</td>\n",
       "    </tr>\n",
       "    <tr>\n",
       "      <th>1</th>\n",
       "      <td>Parkwoods</td>\n",
       "      <td>43.753259</td>\n",
       "      <td>-79.329656</td>\n",
       "      <td>KFC</td>\n",
       "      <td>43.754387</td>\n",
       "      <td>-79.333021</td>\n",
       "      <td>Fast Food Restaurant</td>\n",
       "    </tr>\n",
       "    <tr>\n",
       "      <th>2</th>\n",
       "      <td>Parkwoods</td>\n",
       "      <td>43.753259</td>\n",
       "      <td>-79.329656</td>\n",
       "      <td>Variety Store</td>\n",
       "      <td>43.751974</td>\n",
       "      <td>-79.333114</td>\n",
       "      <td>Food &amp; Drink Shop</td>\n",
       "    </tr>\n",
       "    <tr>\n",
       "      <th>3</th>\n",
       "      <td>Parkwoods</td>\n",
       "      <td>43.753259</td>\n",
       "      <td>-79.329656</td>\n",
       "      <td>Bella Vita Catering &amp; Private Chef Service</td>\n",
       "      <td>43.756651</td>\n",
       "      <td>-79.331524</td>\n",
       "      <td>BBQ Joint</td>\n",
       "    </tr>\n",
       "    <tr>\n",
       "      <th>4</th>\n",
       "      <td>Victoria Village</td>\n",
       "      <td>43.725882</td>\n",
       "      <td>-79.315572</td>\n",
       "      <td>Victoria Village Arena</td>\n",
       "      <td>43.723481</td>\n",
       "      <td>-79.315635</td>\n",
       "      <td>Hockey Arena</td>\n",
       "    </tr>\n",
       "    <tr>\n",
       "      <th>5</th>\n",
       "      <td>Victoria Village</td>\n",
       "      <td>43.725882</td>\n",
       "      <td>-79.315572</td>\n",
       "      <td>Portugril</td>\n",
       "      <td>43.725819</td>\n",
       "      <td>-79.312785</td>\n",
       "      <td>Portuguese Restaurant</td>\n",
       "    </tr>\n",
       "    <tr>\n",
       "      <th>6</th>\n",
       "      <td>Victoria Village</td>\n",
       "      <td>43.725882</td>\n",
       "      <td>-79.315572</td>\n",
       "      <td>Tim Hortons</td>\n",
       "      <td>43.725517</td>\n",
       "      <td>-79.313103</td>\n",
       "      <td>Coffee Shop</td>\n",
       "    </tr>\n",
       "    <tr>\n",
       "      <th>7</th>\n",
       "      <td>Victoria Village</td>\n",
       "      <td>43.725882</td>\n",
       "      <td>-79.315572</td>\n",
       "      <td>Eglinton Ave E &amp; Sloane Ave/Bermondsey Rd</td>\n",
       "      <td>43.726086</td>\n",
       "      <td>-79.313620</td>\n",
       "      <td>Intersection</td>\n",
       "    </tr>\n",
       "    <tr>\n",
       "      <th>8</th>\n",
       "      <td>Regent Park,Harbourfront</td>\n",
       "      <td>43.654260</td>\n",
       "      <td>-79.360636</td>\n",
       "      <td>Roselle Desserts</td>\n",
       "      <td>43.653447</td>\n",
       "      <td>-79.362017</td>\n",
       "      <td>Bakery</td>\n",
       "    </tr>\n",
       "    <tr>\n",
       "      <th>9</th>\n",
       "      <td>Regent Park,Harbourfront</td>\n",
       "      <td>43.654260</td>\n",
       "      <td>-79.360636</td>\n",
       "      <td>Tandem Coffee</td>\n",
       "      <td>43.653559</td>\n",
       "      <td>-79.361809</td>\n",
       "      <td>Coffee Shop</td>\n",
       "    </tr>\n",
       "    <tr>\n",
       "      <th>10</th>\n",
       "      <td>Regent Park,Harbourfront</td>\n",
       "      <td>43.654260</td>\n",
       "      <td>-79.360636</td>\n",
       "      <td>Toronto Cooper Koo Family Cherry St YMCA Centre</td>\n",
       "      <td>43.653191</td>\n",
       "      <td>-79.357947</td>\n",
       "      <td>Gym / Fitness Center</td>\n",
       "    </tr>\n",
       "    <tr>\n",
       "      <th>11</th>\n",
       "      <td>Regent Park,Harbourfront</td>\n",
       "      <td>43.654260</td>\n",
       "      <td>-79.360636</td>\n",
       "      <td>Body Blitz Spa East</td>\n",
       "      <td>43.654735</td>\n",
       "      <td>-79.359874</td>\n",
       "      <td>Spa</td>\n",
       "    </tr>\n",
       "    <tr>\n",
       "      <th>12</th>\n",
       "      <td>Regent Park,Harbourfront</td>\n",
       "      <td>43.654260</td>\n",
       "      <td>-79.360636</td>\n",
       "      <td>Morning Glory Cafe</td>\n",
       "      <td>43.653947</td>\n",
       "      <td>-79.361149</td>\n",
       "      <td>Breakfast Spot</td>\n",
       "    </tr>\n",
       "    <tr>\n",
       "      <th>13</th>\n",
       "      <td>Regent Park,Harbourfront</td>\n",
       "      <td>43.654260</td>\n",
       "      <td>-79.360636</td>\n",
       "      <td>Impact Kitchen</td>\n",
       "      <td>43.656369</td>\n",
       "      <td>-79.356980</td>\n",
       "      <td>Restaurant</td>\n",
       "    </tr>\n",
       "    <tr>\n",
       "      <th>14</th>\n",
       "      <td>Regent Park,Harbourfront</td>\n",
       "      <td>43.654260</td>\n",
       "      <td>-79.360636</td>\n",
       "      <td>Figs Breakfast &amp; Lunch</td>\n",
       "      <td>43.655675</td>\n",
       "      <td>-79.364503</td>\n",
       "      <td>Breakfast Spot</td>\n",
       "    </tr>\n",
       "  </tbody>\n",
       "</table>\n",
       "</div>"
      ],
      "text/plain": [
       "                Neighborhood  Neighborhood Latitude  Neighborhood Longitude  \\\n",
       "0                  Parkwoods              43.753259              -79.329656   \n",
       "1                  Parkwoods              43.753259              -79.329656   \n",
       "2                  Parkwoods              43.753259              -79.329656   \n",
       "3                  Parkwoods              43.753259              -79.329656   \n",
       "4           Victoria Village              43.725882              -79.315572   \n",
       "5           Victoria Village              43.725882              -79.315572   \n",
       "6           Victoria Village              43.725882              -79.315572   \n",
       "7           Victoria Village              43.725882              -79.315572   \n",
       "8   Regent Park,Harbourfront              43.654260              -79.360636   \n",
       "9   Regent Park,Harbourfront              43.654260              -79.360636   \n",
       "10  Regent Park,Harbourfront              43.654260              -79.360636   \n",
       "11  Regent Park,Harbourfront              43.654260              -79.360636   \n",
       "12  Regent Park,Harbourfront              43.654260              -79.360636   \n",
       "13  Regent Park,Harbourfront              43.654260              -79.360636   \n",
       "14  Regent Park,Harbourfront              43.654260              -79.360636   \n",
       "\n",
       "                                              Venue  Venue Latitude  \\\n",
       "0                                   Brookbanks Park       43.751976   \n",
       "1                                               KFC       43.754387   \n",
       "2                                     Variety Store       43.751974   \n",
       "3        Bella Vita Catering & Private Chef Service       43.756651   \n",
       "4                            Victoria Village Arena       43.723481   \n",
       "5                                         Portugril       43.725819   \n",
       "6                                       Tim Hortons       43.725517   \n",
       "7         Eglinton Ave E & Sloane Ave/Bermondsey Rd       43.726086   \n",
       "8                                  Roselle Desserts       43.653447   \n",
       "9                                     Tandem Coffee       43.653559   \n",
       "10  Toronto Cooper Koo Family Cherry St YMCA Centre       43.653191   \n",
       "11                              Body Blitz Spa East       43.654735   \n",
       "12                               Morning Glory Cafe       43.653947   \n",
       "13                                   Impact Kitchen       43.656369   \n",
       "14                           Figs Breakfast & Lunch       43.655675   \n",
       "\n",
       "    Venue Longitude         Venue Category  \n",
       "0        -79.332140                   Park  \n",
       "1        -79.333021   Fast Food Restaurant  \n",
       "2        -79.333114      Food & Drink Shop  \n",
       "3        -79.331524              BBQ Joint  \n",
       "4        -79.315635           Hockey Arena  \n",
       "5        -79.312785  Portuguese Restaurant  \n",
       "6        -79.313103            Coffee Shop  \n",
       "7        -79.313620           Intersection  \n",
       "8        -79.362017                 Bakery  \n",
       "9        -79.361809            Coffee Shop  \n",
       "10       -79.357947   Gym / Fitness Center  \n",
       "11       -79.359874                    Spa  \n",
       "12       -79.361149         Breakfast Spot  \n",
       "13       -79.356980             Restaurant  \n",
       "14       -79.364503         Breakfast Spot  "
      ]
     },
     "execution_count": 16,
     "metadata": {},
     "output_type": "execute_result"
    }
   ],
   "source": [
    "toronto_venues.head(15)"
   ]
  },
  {
   "cell_type": "markdown",
   "metadata": {},
   "source": [
    "#### Let's have a look at the number of venues we got"
   ]
  },
  {
   "cell_type": "code",
   "execution_count": null,
   "metadata": {},
   "outputs": [],
   "source": [
    "print(\"We have {} venues near all {} neighborhoods in Toronto\".format(toronto_venues.shape[0],len(toronto_venues['Neighborhood'].unique())))"
   ]
  },
  {
   "cell_type": "markdown",
   "metadata": {},
   "source": [
    "An important observation to make here is that although we have processed all the 103 neighborhoods we have data for 100 neighborhoods which means that foursquare has no data on venues within 500 meters radius of 3 neighborhoods."
   ]
  },
  {
   "cell_type": "markdown",
   "metadata": {},
   "source": [
    "#### Let's figure out which Neighborhoods are missing"
   ]
  },
  {
   "cell_type": "code",
   "execution_count": null,
   "metadata": {
    "scrolled": true
   },
   "outputs": [],
   "source": [
    "for i in data['Neighborhood']:\n",
    "    if i not in toronto_venues['Neighborhood'].unique():\n",
    "        print(i)"
   ]
  },
  {
   "cell_type": "markdown",
   "metadata": {},
   "source": [
    "### Now that we have the missing Neighborhoods let's take one of them and check our observation.    "
   ]
  },
  {
   "cell_type": "markdown",
   "metadata": {},
   "source": [
    "Let's take ***Islington Avenue*** as the target Neighborhood and check the co-ordinates (43.667856,-79.532242) in **Foursquare**."
   ]
  },
  {
   "cell_type": "code",
   "execution_count": null,
   "metadata": {},
   "outputs": [],
   "source": [
    "url = 'http://api.foursquare.com/v2/venues/explore?client_id={}&client_secret={}&v={}&ll={},{}&limit={}&radius={}'.format(CLIENT_ID, CLIENT_SECRET, VERSION,43.667856,-79.532242,100,500)"
   ]
  },
  {
   "cell_type": "code",
   "execution_count": null,
   "metadata": {},
   "outputs": [],
   "source": [
    "results = requests.get(url).json()\n",
    "results"
   ]
  },
  {
   "cell_type": "markdown",
   "metadata": {},
   "source": [
    "### The warning looks worth noticing since the 'items' is empty."
   ]
  },
  {
   "cell_type": "code",
   "execution_count": null,
   "metadata": {},
   "outputs": [],
   "source": [
    "results['response']['warning']['text']"
   ]
  },
  {
   "cell_type": "markdown",
   "metadata": {},
   "source": [
    "# 8. Let's expand our search area to 1.5 km."
   ]
  },
  {
   "cell_type": "code",
   "execution_count": 17,
   "metadata": {
    "scrolled": true
   },
   "outputs": [],
   "source": [
    "toronto_venues = getNearbyVenues(names = data['Neighborhood'], \n",
    "                                   latitudes = data['Latitude'], \n",
    "                                   longitudes = data['Longitude'], radius=1500)"
   ]
  },
  {
   "cell_type": "code",
   "execution_count": 18,
   "metadata": {
    "scrolled": true
   },
   "outputs": [
    {
     "data": {
      "text/html": [
       "<div>\n",
       "<style scoped>\n",
       "    .dataframe tbody tr th:only-of-type {\n",
       "        vertical-align: middle;\n",
       "    }\n",
       "\n",
       "    .dataframe tbody tr th {\n",
       "        vertical-align: top;\n",
       "    }\n",
       "\n",
       "    .dataframe thead th {\n",
       "        text-align: right;\n",
       "    }\n",
       "</style>\n",
       "<table border=\"1\" class=\"dataframe\">\n",
       "  <thead>\n",
       "    <tr style=\"text-align: right;\">\n",
       "      <th></th>\n",
       "      <th>Neighborhood</th>\n",
       "      <th>Neighborhood Latitude</th>\n",
       "      <th>Neighborhood Longitude</th>\n",
       "      <th>Venue</th>\n",
       "      <th>Venue Latitude</th>\n",
       "      <th>Venue Longitude</th>\n",
       "      <th>Venue Category</th>\n",
       "    </tr>\n",
       "  </thead>\n",
       "  <tbody>\n",
       "    <tr>\n",
       "      <th>0</th>\n",
       "      <td>Parkwoods</td>\n",
       "      <td>43.753259</td>\n",
       "      <td>-79.329656</td>\n",
       "      <td>Allwyn's Bakery</td>\n",
       "      <td>43.759840</td>\n",
       "      <td>-79.324719</td>\n",
       "      <td>Caribbean Restaurant</td>\n",
       "    </tr>\n",
       "    <tr>\n",
       "      <th>1</th>\n",
       "      <td>Parkwoods</td>\n",
       "      <td>43.753259</td>\n",
       "      <td>-79.329656</td>\n",
       "      <td>Brookbanks Park</td>\n",
       "      <td>43.751976</td>\n",
       "      <td>-79.332140</td>\n",
       "      <td>Park</td>\n",
       "    </tr>\n",
       "    <tr>\n",
       "      <th>2</th>\n",
       "      <td>Parkwoods</td>\n",
       "      <td>43.753259</td>\n",
       "      <td>-79.329656</td>\n",
       "      <td>Donalda Golf &amp; Country Club</td>\n",
       "      <td>43.752816</td>\n",
       "      <td>-79.342741</td>\n",
       "      <td>Golf Course</td>\n",
       "    </tr>\n",
       "    <tr>\n",
       "      <th>3</th>\n",
       "      <td>Parkwoods</td>\n",
       "      <td>43.753259</td>\n",
       "      <td>-79.329656</td>\n",
       "      <td>Tim Hortons</td>\n",
       "      <td>43.760668</td>\n",
       "      <td>-79.326368</td>\n",
       "      <td>Café</td>\n",
       "    </tr>\n",
       "    <tr>\n",
       "      <th>4</th>\n",
       "      <td>Parkwoods</td>\n",
       "      <td>43.753259</td>\n",
       "      <td>-79.329656</td>\n",
       "      <td>LCBO</td>\n",
       "      <td>43.757774</td>\n",
       "      <td>-79.314257</td>\n",
       "      <td>Liquor Store</td>\n",
       "    </tr>\n",
       "    <tr>\n",
       "      <th>5</th>\n",
       "      <td>Parkwoods</td>\n",
       "      <td>43.753259</td>\n",
       "      <td>-79.329656</td>\n",
       "      <td>A&amp;W Canada</td>\n",
       "      <td>43.760643</td>\n",
       "      <td>-79.326865</td>\n",
       "      <td>Fast Food Restaurant</td>\n",
       "    </tr>\n",
       "    <tr>\n",
       "      <th>6</th>\n",
       "      <td>Parkwoods</td>\n",
       "      <td>43.753259</td>\n",
       "      <td>-79.329656</td>\n",
       "      <td>Tim Hortons</td>\n",
       "      <td>43.752814</td>\n",
       "      <td>-79.314067</td>\n",
       "      <td>Coffee Shop</td>\n",
       "    </tr>\n",
       "    <tr>\n",
       "      <th>7</th>\n",
       "      <td>Parkwoods</td>\n",
       "      <td>43.753259</td>\n",
       "      <td>-79.329656</td>\n",
       "      <td>Bruno's valu-mart</td>\n",
       "      <td>43.746086</td>\n",
       "      <td>-79.324978</td>\n",
       "      <td>Grocery Store</td>\n",
       "    </tr>\n",
       "    <tr>\n",
       "      <th>8</th>\n",
       "      <td>Parkwoods</td>\n",
       "      <td>43.753259</td>\n",
       "      <td>-79.329656</td>\n",
       "      <td>Shoppers Drug Mart</td>\n",
       "      <td>43.745303</td>\n",
       "      <td>-79.325249</td>\n",
       "      <td>Pharmacy</td>\n",
       "    </tr>\n",
       "    <tr>\n",
       "      <th>9</th>\n",
       "      <td>Parkwoods</td>\n",
       "      <td>43.753259</td>\n",
       "      <td>-79.329656</td>\n",
       "      <td>Food Basics</td>\n",
       "      <td>43.760865</td>\n",
       "      <td>-79.326015</td>\n",
       "      <td>Supermarket</td>\n",
       "    </tr>\n",
       "    <tr>\n",
       "      <th>10</th>\n",
       "      <td>Parkwoods</td>\n",
       "      <td>43.753259</td>\n",
       "      <td>-79.329656</td>\n",
       "      <td>TD Canada Trust</td>\n",
       "      <td>43.753253</td>\n",
       "      <td>-79.347851</td>\n",
       "      <td>Bank</td>\n",
       "    </tr>\n",
       "    <tr>\n",
       "      <th>11</th>\n",
       "      <td>Parkwoods</td>\n",
       "      <td>43.753259</td>\n",
       "      <td>-79.329656</td>\n",
       "      <td>The Beer Store</td>\n",
       "      <td>43.758275</td>\n",
       "      <td>-79.313705</td>\n",
       "      <td>Beer Store</td>\n",
       "    </tr>\n",
       "    <tr>\n",
       "      <th>12</th>\n",
       "      <td>Parkwoods</td>\n",
       "      <td>43.753259</td>\n",
       "      <td>-79.329656</td>\n",
       "      <td>High Street Fish &amp; Chips</td>\n",
       "      <td>43.745260</td>\n",
       "      <td>-79.324949</td>\n",
       "      <td>Fish &amp; Chips Shop</td>\n",
       "    </tr>\n",
       "    <tr>\n",
       "      <th>13</th>\n",
       "      <td>Parkwoods</td>\n",
       "      <td>43.753259</td>\n",
       "      <td>-79.329656</td>\n",
       "      <td>Subway</td>\n",
       "      <td>43.758079</td>\n",
       "      <td>-79.312421</td>\n",
       "      <td>Sandwich Place</td>\n",
       "    </tr>\n",
       "    <tr>\n",
       "      <th>14</th>\n",
       "      <td>Parkwoods</td>\n",
       "      <td>43.753259</td>\n",
       "      <td>-79.329656</td>\n",
       "      <td>Shoppers Drug Mart</td>\n",
       "      <td>43.760857</td>\n",
       "      <td>-79.324961</td>\n",
       "      <td>Pharmacy</td>\n",
       "    </tr>\n",
       "  </tbody>\n",
       "</table>\n",
       "</div>"
      ],
      "text/plain": [
       "   Neighborhood  Neighborhood Latitude  Neighborhood Longitude  \\\n",
       "0     Parkwoods              43.753259              -79.329656   \n",
       "1     Parkwoods              43.753259              -79.329656   \n",
       "2     Parkwoods              43.753259              -79.329656   \n",
       "3     Parkwoods              43.753259              -79.329656   \n",
       "4     Parkwoods              43.753259              -79.329656   \n",
       "5     Parkwoods              43.753259              -79.329656   \n",
       "6     Parkwoods              43.753259              -79.329656   \n",
       "7     Parkwoods              43.753259              -79.329656   \n",
       "8     Parkwoods              43.753259              -79.329656   \n",
       "9     Parkwoods              43.753259              -79.329656   \n",
       "10    Parkwoods              43.753259              -79.329656   \n",
       "11    Parkwoods              43.753259              -79.329656   \n",
       "12    Parkwoods              43.753259              -79.329656   \n",
       "13    Parkwoods              43.753259              -79.329656   \n",
       "14    Parkwoods              43.753259              -79.329656   \n",
       "\n",
       "                          Venue  Venue Latitude  Venue Longitude  \\\n",
       "0               Allwyn's Bakery       43.759840       -79.324719   \n",
       "1               Brookbanks Park       43.751976       -79.332140   \n",
       "2   Donalda Golf & Country Club       43.752816       -79.342741   \n",
       "3                   Tim Hortons       43.760668       -79.326368   \n",
       "4                          LCBO       43.757774       -79.314257   \n",
       "5                    A&W Canada       43.760643       -79.326865   \n",
       "6                   Tim Hortons       43.752814       -79.314067   \n",
       "7             Bruno's valu-mart       43.746086       -79.324978   \n",
       "8            Shoppers Drug Mart       43.745303       -79.325249   \n",
       "9                   Food Basics       43.760865       -79.326015   \n",
       "10              TD Canada Trust       43.753253       -79.347851   \n",
       "11               The Beer Store       43.758275       -79.313705   \n",
       "12     High Street Fish & Chips       43.745260       -79.324949   \n",
       "13                       Subway       43.758079       -79.312421   \n",
       "14           Shoppers Drug Mart       43.760857       -79.324961   \n",
       "\n",
       "          Venue Category  \n",
       "0   Caribbean Restaurant  \n",
       "1                   Park  \n",
       "2            Golf Course  \n",
       "3                   Café  \n",
       "4           Liquor Store  \n",
       "5   Fast Food Restaurant  \n",
       "6            Coffee Shop  \n",
       "7          Grocery Store  \n",
       "8               Pharmacy  \n",
       "9            Supermarket  \n",
       "10                  Bank  \n",
       "11            Beer Store  \n",
       "12     Fish & Chips Shop  \n",
       "13        Sandwich Place  \n",
       "14              Pharmacy  "
      ]
     },
     "execution_count": 18,
     "metadata": {},
     "output_type": "execute_result"
    }
   ],
   "source": [
    "toronto_venues.head(15)"
   ]
  },
  {
   "cell_type": "markdown",
   "metadata": {},
   "source": [
    "#### Let's have a look at the number of venues we got this time"
   ]
  },
  {
   "cell_type": "code",
   "execution_count": 19,
   "metadata": {},
   "outputs": [
    {
     "name": "stdout",
     "output_type": "stream",
     "text": [
      "We have 6760 venues near all 103 neighborhoods in Toronto\n"
     ]
    }
   ],
   "source": [
    "print(\"We have {} venues near all {} neighborhoods in Toronto\".format(toronto_venues.shape[0],len(toronto_venues['Neighborhood'].unique())))"
   ]
  },
  {
   "cell_type": "markdown",
   "metadata": {},
   "source": [
    "### So we have got all the 103 Neighborhoods this time."
   ]
  },
  {
   "cell_type": "markdown",
   "metadata": {},
   "source": [
    "### Now let's check the number of venues per Neighborhood"
   ]
  },
  {
   "cell_type": "code",
   "execution_count": null,
   "metadata": {},
   "outputs": [],
   "source": [
    "# Number of venues per neighbourhood\n",
    "toronto_venues.groupby('Neighborhood')['Venue'].count()"
   ]
  },
  {
   "cell_type": "markdown",
   "metadata": {},
   "source": [
    "# 9. Analyze Each Neighborhood"
   ]
  },
  {
   "cell_type": "code",
   "execution_count": 20,
   "metadata": {},
   "outputs": [
    {
     "name": "stdout",
     "output_type": "stream",
     "text": [
      "Number of unique categories are :  340\n"
     ]
    }
   ],
   "source": [
    "print(\"Number of unique categories are : \",len(toronto_venues['Venue Category'].unique()))"
   ]
  },
  {
   "cell_type": "code",
   "execution_count": 28,
   "metadata": {},
   "outputs": [],
   "source": [
    "toronto_hotels = toronto_venues[toronto_venues['Venue Category']=='Hotel']"
   ]
  },
  {
   "cell_type": "code",
   "execution_count": null,
   "metadata": {},
   "outputs": [],
   "source": [
    "# one hot encoding\n",
    "toronto_onehot = pd.get_dummies(toronto_venues[['Venue Category']], prefix=\"\", prefix_sep=\"\")\n",
    "\n",
    "# add neighborhood column back to dataframe\n",
    "toronto_onehot['Neighborhood_name'] = toronto_venues['Neighborhood'] \n",
    "\n",
    "# move neighborhood column to the first column\n",
    "fixed_columns = [toronto_onehot.columns[-1]] + list(toronto_onehot.columns[:-1])\n",
    "toronto_onehot = toronto_onehot[fixed_columns]\n",
    "print(toronto_onehot.shape[1]) # checking whether all the 334 categories are included and total number of columns should be 335\n",
    "toronto_onehot.head()"
   ]
  },
  {
   "cell_type": "markdown",
   "metadata": {},
   "source": [
    "### One problem that we faced during the craetion of this dataframe is that one of the 334 categories of the venues is called 'Neighborhood'. So we have to careful about giving a new name to the column. Here we have given the name 'Neighborhood_name'. Also the total number of column is 335 as expected."
   ]
  },
  {
   "cell_type": "code",
   "execution_count": null,
   "metadata": {},
   "outputs": [],
   "source": [
    "#the shape of the dataframe is :\n",
    "toronto_onehot.shape"
   ]
  },
  {
   "cell_type": "markdown",
   "metadata": {},
   "source": [
    "This shape looks perfect!!"
   ]
  },
  {
   "cell_type": "markdown",
   "metadata": {},
   "source": [
    "# 10. Group rows by neighborhood and by taking the mean of the frequency of occurrence of each category"
   ]
  },
  {
   "cell_type": "code",
   "execution_count": null,
   "metadata": {},
   "outputs": [],
   "source": [
    "toronto_grouped=toronto_onehot.groupby('Neighborhood_name').mean().reset_index()\n",
    "toronto_grouped"
   ]
  },
  {
   "cell_type": "markdown",
   "metadata": {},
   "source": [
    "### So let's take a neighbourhood and print it's top 5 most common venues."
   ]
  },
  {
   "cell_type": "code",
   "execution_count": null,
   "metadata": {},
   "outputs": [],
   "source": [
    "num_top_venues = 5\n",
    "\n",
    "for hood in toronto_grouped['Neighborhood_name']:\n",
    "    print(\"----\"+hood+\"----\")\n",
    "    temp = toronto_grouped[toronto_grouped['Neighborhood_name'] == hood].T.reset_index()\n",
    "    temp.columns = ['venue','freq']\n",
    "    temp = temp.iloc[1:]\n",
    "    temp['freq'] = temp['freq'].astype(float)\n",
    "    temp = temp.round({'freq': 2})\n",
    "    print(temp.sort_values('freq', ascending=False).reset_index(drop=True).head(num_top_venues))\n",
    "    print('\\n')"
   ]
  },
  {
   "cell_type": "markdown",
   "metadata": {},
   "source": [
    "# 11.  Let's put top ten venues of each neighborhood into a **Pandas** dataframe"
   ]
  },
  {
   "cell_type": "code",
   "execution_count": null,
   "metadata": {},
   "outputs": [],
   "source": [
    "def return_most_common_venues(row, num_top_venues):\n",
    "    row_categories = row.iloc[1:]\n",
    "    row_categories_sorted = row_categories.sort_values(ascending=False)\n",
    "    \n",
    "    return row_categories_sorted.index.values[0:num_top_venues]"
   ]
  },
  {
   "cell_type": "code",
   "execution_count": null,
   "metadata": {},
   "outputs": [],
   "source": [
    "num_top_venues = 10\n",
    "\n",
    "indicators = ['st', 'nd', 'rd']\n",
    "\n",
    "# create columns according to number of top venues\n",
    "columns = ['Neighborhood_name']\n",
    "for ind in np.arange(num_top_venues):\n",
    "    try:\n",
    "        columns.append('{}{} Most Common Venue'.format(ind+1, indicators[ind]))\n",
    "    except:\n",
    "        columns.append('{}th Most Common Venue'.format(ind+1))\n",
    "\n",
    "# create a new dataframe\n",
    "neighborhoods_venues_sorted = pd.DataFrame(columns=columns)\n",
    "neighborhoods_venues_sorted['Neighborhood_name'] = toronto_grouped['Neighborhood_name']\n",
    "\n",
    "for ind in np.arange(toronto_grouped.shape[0]):\n",
    "    neighborhoods_venues_sorted.iloc[ind, 1:] = return_most_common_venues(toronto_grouped.iloc[ind, :], num_top_venues)\n",
    "\n",
    "neighborhoods_venues_sorted"
   ]
  },
  {
   "cell_type": "markdown",
   "metadata": {},
   "source": [
    "# 12. Cluster Neighborhood"
   ]
  },
  {
   "cell_type": "code",
   "execution_count": null,
   "metadata": {},
   "outputs": [],
   "source": [
    "# set number of clusters\n",
    "kclusters = 5\n",
    "\n",
    "toronto_grouped_clustering = toronto_grouped.drop('Neighborhood_name', 1)\n",
    "\n",
    "# run k-means clustering\n",
    "kmeans = KMeans(n_clusters=kclusters, random_state=0).fit(toronto_grouped_clustering)\n",
    "\n",
    "# check cluster labels generated for each row in the dataframe\n",
    "print(len(kmeans.labels_))\n",
    "kmeans.labels_"
   ]
  },
  {
   "cell_type": "code",
   "execution_count": null,
   "metadata": {
    "scrolled": true
   },
   "outputs": [],
   "source": [
    "toronto_merged = data\n",
    "\n",
    "# add clustering labels\n",
    "toronto_merged['Cluster Labels'] = kmeans.labels_\n",
    "\n",
    "# merge toronto_grouped with toronto_data to add latitude/longitude for each neighborhood\n",
    "toronto_merged = toronto_merged.join(neighborhoods_venues_sorted.set_index('Neighborhood_name'), on='Neighborhood')\n",
    "toronto_merged"
   ]
  },
  {
   "cell_type": "code",
   "execution_count": null,
   "metadata": {},
   "outputs": [],
   "source": [
    "# create map\n",
    "map_clusters = folium.Map(location=[latitude, longitude], zoom_start=11)\n",
    "\n",
    "# set color scheme for the clusters\n",
    "x = np.arange(kclusters)\n",
    "ys = [i+x+(i*x)**2 for i in range(kclusters)]\n",
    "colors_array = cm.rainbow(np.linspace(0, 1, len(ys)))\n",
    "rainbow = [colors.rgb2hex(i) for i in colors_array]\n",
    "\n",
    "# add markers to the map\n",
    "markers_colors = []\n",
    "for lat, lon, poi, cluster in zip(toronto_merged['Latitude'], toronto_merged['Longitude'], toronto_merged['Neighborhood'], toronto_merged['Cluster Labels']):\n",
    "    label = folium.Popup(str(poi) + ' Cluster ' + str(cluster), parse_html=True)\n",
    "    folium.CircleMarker(\n",
    "        [lat, lon],\n",
    "        radius=5,\n",
    "        popup=label,\n",
    "        color=rainbow[cluster-1],\n",
    "        fill=True,\n",
    "        fill_color=rainbow[cluster-1],\n",
    "        fill_opacity=0.7).add_to(map_clusters)\n",
    "       \n",
    "map_clusters"
   ]
  },
  {
   "cell_type": "markdown",
   "metadata": {},
   "source": [
    "# 13. Examine the clusters"
   ]
  },
  {
   "cell_type": "markdown",
   "metadata": {},
   "source": [
    "### Cluster 1"
   ]
  },
  {
   "cell_type": "code",
   "execution_count": null,
   "metadata": {},
   "outputs": [],
   "source": [
    "toronto_merged.loc[toronto_merged['Cluster Labels'] == 0, toronto_merged.columns[[2] + list(range(5, toronto_merged.shape[1]))]]"
   ]
  },
  {
   "cell_type": "markdown",
   "metadata": {},
   "source": [
    "### Cluster 2"
   ]
  },
  {
   "cell_type": "code",
   "execution_count": null,
   "metadata": {
    "scrolled": true
   },
   "outputs": [],
   "source": [
    "toronto_merged.loc[toronto_merged['Cluster Labels'] == 1, toronto_merged.columns[[2] + list(range(5, toronto_merged.shape[1]))]]"
   ]
  },
  {
   "cell_type": "markdown",
   "metadata": {},
   "source": [
    "### Cluster 3"
   ]
  },
  {
   "cell_type": "code",
   "execution_count": null,
   "metadata": {
    "scrolled": true
   },
   "outputs": [],
   "source": [
    "toronto_merged.loc[toronto_merged['Cluster Labels'] == 2, toronto_merged.columns[[2] + list(range(5, toronto_merged.shape[1]))]]"
   ]
  },
  {
   "cell_type": "markdown",
   "metadata": {},
   "source": [
    "### Cluster 4"
   ]
  },
  {
   "cell_type": "code",
   "execution_count": null,
   "metadata": {},
   "outputs": [],
   "source": [
    "toronto_merged.loc[toronto_merged['Cluster Labels'] == 3, toronto_merged.columns[[2] + list(range(5, toronto_merged.shape[1]))]]"
   ]
  },
  {
   "cell_type": "markdown",
   "metadata": {},
   "source": [
    "### Cluster 5"
   ]
  },
  {
   "cell_type": "code",
   "execution_count": null,
   "metadata": {},
   "outputs": [],
   "source": [
    "toronto_merged.loc[toronto_merged['Cluster Labels'] == 4, toronto_merged.columns[[2] + list(range(5, toronto_merged.shape[1]))]]"
   ]
  },
  {
   "cell_type": "code",
   "execution_count": null,
   "metadata": {},
   "outputs": [],
   "source": []
  }
 ],
 "metadata": {
  "kernelspec": {
   "display_name": "Python 3",
   "language": "python",
   "name": "python3"
  },
  "language_info": {
   "codemirror_mode": {
    "name": "ipython",
    "version": 3
   },
   "file_extension": ".py",
   "mimetype": "text/x-python",
   "name": "python",
   "nbconvert_exporter": "python",
   "pygments_lexer": "ipython3",
   "version": "3.6.5"
  }
 },
 "nbformat": 4,
 "nbformat_minor": 2
}
