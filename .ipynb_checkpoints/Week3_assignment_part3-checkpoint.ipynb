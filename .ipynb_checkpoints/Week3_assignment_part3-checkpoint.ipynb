{
 "cells": [
  {
   "cell_type": "markdown",
   "metadata": {},
   "source": [
    "# Everything from Part2 of the assignment"
   ]
  },
  {
   "cell_type": "code",
   "execution_count": 1,
   "metadata": {},
   "outputs": [],
   "source": [
    "import geocoder\n",
    "import pandas as pd\n",
    "data = pd.read_csv(\"neighborhoods.csv\")\n",
    "postcode = pd.read_csv(\"Geospatial_Coordinates.csv\")\n",
    "lat = []\n",
    "lon = []\n",
    "for i in range(len(data['PostalCode'])):\n",
    "    for j in range(len(postcode['Postal Code'])):\n",
    "        if data.loc[i,'PostalCode'] == postcode.loc[j,'Postal Code']:\n",
    "            lat.append(postcode.loc[j,'Latitude'])\n",
    "            lon.append(postcode.loc[j,'Longitude'])\n",
    "data['Latitude'] = lat\n",
    "data['Longitude'] = lon\n",
    "data = data.drop('Unnamed: 0',axis = 1)"
   ]
  },
  {
   "cell_type": "markdown",
   "metadata": {},
   "source": [
    "## Checking the dadaframe before going forward"
   ]
  },
  {
   "cell_type": "code",
   "execution_count": 2,
   "metadata": {},
   "outputs": [
    {
     "data": {
      "text/html": [
       "<div>\n",
       "<style scoped>\n",
       "    .dataframe tbody tr th:only-of-type {\n",
       "        vertical-align: middle;\n",
       "    }\n",
       "\n",
       "    .dataframe tbody tr th {\n",
       "        vertical-align: top;\n",
       "    }\n",
       "\n",
       "    .dataframe thead th {\n",
       "        text-align: right;\n",
       "    }\n",
       "</style>\n",
       "<table border=\"1\" class=\"dataframe\">\n",
       "  <thead>\n",
       "    <tr style=\"text-align: right;\">\n",
       "      <th></th>\n",
       "      <th>PostalCode</th>\n",
       "      <th>Borough</th>\n",
       "      <th>Neighborhood</th>\n",
       "      <th>Latitude</th>\n",
       "      <th>Longitude</th>\n",
       "    </tr>\n",
       "  </thead>\n",
       "  <tbody>\n",
       "    <tr>\n",
       "      <th>0</th>\n",
       "      <td>M3A</td>\n",
       "      <td>North York</td>\n",
       "      <td>Parkwoods</td>\n",
       "      <td>43.753259</td>\n",
       "      <td>-79.329656</td>\n",
       "    </tr>\n",
       "    <tr>\n",
       "      <th>1</th>\n",
       "      <td>M4A</td>\n",
       "      <td>North York</td>\n",
       "      <td>Victoria Village</td>\n",
       "      <td>43.725882</td>\n",
       "      <td>-79.315572</td>\n",
       "    </tr>\n",
       "    <tr>\n",
       "      <th>2</th>\n",
       "      <td>M5A</td>\n",
       "      <td>Downtown Toronto</td>\n",
       "      <td>Harbourfront,Regent Park</td>\n",
       "      <td>43.654260</td>\n",
       "      <td>-79.360636</td>\n",
       "    </tr>\n",
       "    <tr>\n",
       "      <th>3</th>\n",
       "      <td>M6A</td>\n",
       "      <td>North York</td>\n",
       "      <td>Lawrence Heights,Lawrence Manor</td>\n",
       "      <td>43.718518</td>\n",
       "      <td>-79.464763</td>\n",
       "    </tr>\n",
       "    <tr>\n",
       "      <th>4</th>\n",
       "      <td>M7A</td>\n",
       "      <td>Queen's Park</td>\n",
       "      <td>Queen's Park</td>\n",
       "      <td>43.662301</td>\n",
       "      <td>-79.389494</td>\n",
       "    </tr>\n",
       "    <tr>\n",
       "      <th>5</th>\n",
       "      <td>M9A</td>\n",
       "      <td>Etobicoke</td>\n",
       "      <td>Islington Avenue</td>\n",
       "      <td>43.667856</td>\n",
       "      <td>-79.532242</td>\n",
       "    </tr>\n",
       "    <tr>\n",
       "      <th>6</th>\n",
       "      <td>M1B</td>\n",
       "      <td>Scarborough</td>\n",
       "      <td>Rouge,Malvern</td>\n",
       "      <td>43.806686</td>\n",
       "      <td>-79.194353</td>\n",
       "    </tr>\n",
       "    <tr>\n",
       "      <th>7</th>\n",
       "      <td>M3B</td>\n",
       "      <td>North York</td>\n",
       "      <td>Don Mills North</td>\n",
       "      <td>43.745906</td>\n",
       "      <td>-79.352188</td>\n",
       "    </tr>\n",
       "    <tr>\n",
       "      <th>8</th>\n",
       "      <td>M4B</td>\n",
       "      <td>East York</td>\n",
       "      <td>Woodbine Gardens,Parkview Hill</td>\n",
       "      <td>43.706397</td>\n",
       "      <td>-79.309937</td>\n",
       "    </tr>\n",
       "    <tr>\n",
       "      <th>9</th>\n",
       "      <td>M5B</td>\n",
       "      <td>Downtown Toronto</td>\n",
       "      <td>Ryerson,Garden District</td>\n",
       "      <td>43.657162</td>\n",
       "      <td>-79.378937</td>\n",
       "    </tr>\n",
       "  </tbody>\n",
       "</table>\n",
       "</div>"
      ],
      "text/plain": [
       "  PostalCode           Borough                     Neighborhood   Latitude  \\\n",
       "0        M3A        North York                        Parkwoods  43.753259   \n",
       "1        M4A        North York                 Victoria Village  43.725882   \n",
       "2        M5A  Downtown Toronto         Harbourfront,Regent Park  43.654260   \n",
       "3        M6A        North York  Lawrence Heights,Lawrence Manor  43.718518   \n",
       "4        M7A      Queen's Park                     Queen's Park  43.662301   \n",
       "5        M9A         Etobicoke                 Islington Avenue  43.667856   \n",
       "6        M1B       Scarborough                    Rouge,Malvern  43.806686   \n",
       "7        M3B        North York                  Don Mills North  43.745906   \n",
       "8        M4B         East York   Woodbine Gardens,Parkview Hill  43.706397   \n",
       "9        M5B  Downtown Toronto          Ryerson,Garden District  43.657162   \n",
       "\n",
       "   Longitude  \n",
       "0 -79.329656  \n",
       "1 -79.315572  \n",
       "2 -79.360636  \n",
       "3 -79.464763  \n",
       "4 -79.389494  \n",
       "5 -79.532242  \n",
       "6 -79.194353  \n",
       "7 -79.352188  \n",
       "8 -79.309937  \n",
       "9 -79.378937  "
      ]
     },
     "execution_count": 2,
     "metadata": {},
     "output_type": "execute_result"
    }
   ],
   "source": [
    "data.head(10)"
   ]
  },
  {
   "cell_type": "markdown",
   "metadata": {},
   "source": [
    "## Everything looks good so we can start clustering now."
   ]
  },
  {
   "cell_type": "markdown",
   "metadata": {},
   "source": [
    "# 1. Import the necessary modules"
   ]
  },
  {
   "cell_type": "code",
   "execution_count": 3,
   "metadata": {},
   "outputs": [
    {
     "name": "stdout",
     "output_type": "stream",
     "text": [
      "Libraries imported.....\n"
     ]
    }
   ],
   "source": [
    "import numpy as np # library to handle data in a vectorized manner\n",
    "\n",
    "import pandas as pd # library for data analsysis\n",
    "pd.set_option('display.max_columns', None)\n",
    "pd.set_option('display.max_rows', None)\n",
    "\n",
    "import json # library to handle JSON files\n",
    "\n",
    "#!conda install -c conda-forge geopy --yes # uncomment this line if you haven't completed the Foursquare API lab\n",
    "from geopy.geocoders import Nominatim # convert an address into latitude and longitude values\n",
    "\n",
    "import requests # library to handle requests\n",
    "from pandas.io.json import json_normalize # tranform JSON file into a pandas dataframe\n",
    "\n",
    "# Matplotlib and associated plotting modules\n",
    "import matplotlib.cm as cm\n",
    "import matplotlib.colors as colors\n",
    "\n",
    "# import k-means from clustering stage\n",
    "from sklearn.cluster import KMeans\n",
    "\n",
    "#!conda install -c conda-forge folium=0.5.0 --yes # uncomment this line if you haven't completed the Foursquare API lab\n",
    "import folium # map rendering library\n",
    "\n",
    "print('Libraries imported.....')"
   ]
  },
  {
   "cell_type": "markdown",
   "metadata": {},
   "source": [
    "# 2. Use geopy library to get the latitude and longitude values of Toronto City."
   ]
  },
  {
   "cell_type": "code",
   "execution_count": 4,
   "metadata": {},
   "outputs": [
    {
     "name": "stderr",
     "output_type": "stream",
     "text": [
      "/anaconda3/lib/python3.6/site-packages/ipykernel_launcher.py:3: DeprecationWarning: Using Nominatim with the default \"geopy/1.18.1\" `user_agent` is strongly discouraged, as it violates Nominatim's ToS https://operations.osmfoundation.org/policies/nominatim/ and may possibly cause 403 and 429 HTTP errors. Please specify a custom `user_agent` with `Nominatim(user_agent=\"my-application\")` or by overriding the default `user_agent`: `geopy.geocoders.options.default_user_agent = \"my-application\"`. In geopy 2.0 this will become an exception.\n",
      "  This is separate from the ipykernel package so we can avoid doing imports until\n"
     ]
    },
    {
     "name": "stdout",
     "output_type": "stream",
     "text": [
      "The geograpical coordinate of Toronto are 43.653963, -79.387207.\n"
     ]
    }
   ],
   "source": [
    "address = 'Toronto, Ontario'\n",
    "\n",
    "geolocator = Nominatim()\n",
    "location = geolocator.geocode(address)\n",
    "latitude = location.latitude\n",
    "longitude = location.longitude\n",
    "print('The geograpical coordinate of Toronto are {}, {}.'.format(latitude, longitude))"
   ]
  },
  {
   "cell_type": "markdown",
   "metadata": {},
   "source": [
    "# 3. Create a map of Toronto with neighborhoods superimposed on top."
   ]
  },
  {
   "cell_type": "code",
   "execution_count": 5,
   "metadata": {},
   "outputs": [
    {
     "data": {
      "text/html": [
       "<div style=\"width:100%;\"><div style=\"position:relative;width:100%;height:0;padding-bottom:60%;\"><iframe src=\"data:text/html;charset=utf-8;base64,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\" style=\"position:absolute;width:100%;height:100%;left:0;top:0;border:none !important;\" allowfullscreen webkitallowfullscreen mozallowfullscreen></iframe></div></div>"
      ],
      "text/plain": [
       "<folium.folium.Map at 0x11121fe10>"
      ]
     },
     "execution_count": 5,
     "metadata": {},
     "output_type": "execute_result"
    }
   ],
   "source": [
    "# create map of Manhattan using latitude and longitude values\n",
    "map_toronto = folium.Map(location=[latitude, longitude], zoom_start=11)\n",
    "\n",
    "# add markers to map\n",
    "for lat, lng, borough, neighborhood,code in zip(data['Latitude'], data['Longitude'], data['Borough'], data['Neighborhood'], data['PostalCode']):\n",
    "    label = '{},Borough : {}, Postal-Code :{}'.format(neighborhood, borough, code)\n",
    "    label = folium.Popup(label, parse_html=True)\n",
    "    folium.CircleMarker(\n",
    "        [lat, lng],\n",
    "        radius=5,\n",
    "        popup=label,\n",
    "        color='blue',\n",
    "        fill=True,\n",
    "        fill_color='#3186cc',\n",
    "        fill_opacity=0.7,\n",
    "        parse_html=False).add_to(map_toronto)  \n",
    "    \n",
    "map_toronto"
   ]
  },
  {
   "cell_type": "markdown",
   "metadata": {},
   "source": [
    "# 4. Now that it is done we can start using the Foursquare API "
   ]
  },
  {
   "cell_type": "code",
   "execution_count": 6,
   "metadata": {},
   "outputs": [],
   "source": [
    "CLIENT_ID = '*********' # your Foursquare ID\n",
    "CLIENT_SECRET = '*****' # your Foursquare Secret\n",
    "VERSION = '***********' # Version                  #deleted because contains sensitive data\n",
    "LIMIT = 100"
   ]
  },
  {
   "cell_type": "markdown",
   "metadata": {},
   "source": [
    "# 5. Define the function to extract the category from the venues json data"
   ]
  },
  {
   "cell_type": "code",
   "execution_count": 7,
   "metadata": {},
   "outputs": [],
   "source": [
    "# function that extracts the category of the venue\n",
    "def get_category_type(row):\n",
    "    try:\n",
    "        categories_list = row['categories']\n",
    "    except:\n",
    "        categories_list = row['venue.categories']\n",
    "        \n",
    "    if len(categories_list) == 0:\n",
    "        return None\n",
    "    else:\n",
    "        return categories_list[0]['name']"
   ]
  },
  {
   "cell_type": "markdown",
   "metadata": {},
   "source": [
    "# 6. Time to explore the neighborhoods in Toronto"
   ]
  },
  {
   "cell_type": "code",
   "execution_count": 8,
   "metadata": {},
   "outputs": [],
   "source": [
    "# Here we shall restrict our exploration within 500 meters radius of the neiughborhoods\n",
    "def getNearbyVenues(names, latitudes, longitudes, radius=500):\n",
    "    count = 0\n",
    "    venues_list=[]\n",
    "    for name, lat, lng in zip(names, latitudes, longitudes):\n",
    "        count+=1\n",
    "        print(count,name)\n",
    "            \n",
    "        # create the API request URL\n",
    "        url = 'https://api.foursquare.com/v2/venues/explore?&client_id={}&client_secret={}&v={}&ll={},{}&radius={}&limit={}'.format(\n",
    "            CLIENT_ID, \n",
    "            CLIENT_SECRET, \n",
    "            VERSION, \n",
    "            lat, \n",
    "            lng, \n",
    "            radius, \n",
    "            LIMIT)\n",
    "            \n",
    "        # make the GET request\n",
    "        results = requests.get(url).json()[\"response\"]['groups'][0]['items']\n",
    "        \n",
    "        # return only relevant information for each nearby venue\n",
    "        venues_list.append([(\n",
    "            name, \n",
    "            lat, \n",
    "            lng, \n",
    "            v['venue']['name'], \n",
    "            v['venue']['location']['lat'], \n",
    "            v['venue']['location']['lng'],  \n",
    "            v['venue']['categories'][0]['name']) for v in results])\n",
    "\n",
    "    nearby_venues = pd.DataFrame([item for venue_list in venues_list for item in venue_list])\n",
    "    nearby_venues.columns = ['Neighborhood', \n",
    "                  'Neighborhood Latitude', \n",
    "                  'Neighborhood Longitude', \n",
    "                  'Venue', \n",
    "                  'Venue Latitude', \n",
    "                  'Venue Longitude', \n",
    "                  'Venue Category']\n",
    "    \n",
    "    return(nearby_venues)"
   ]
  },
  {
   "cell_type": "markdown",
   "metadata": {},
   "source": [
    "# 7. Create the Dataframe that has all the data about the Neighborhoods and the venues within the 500 metres radius of the Neighborhood."
   ]
  },
  {
   "cell_type": "code",
   "execution_count": 9,
   "metadata": {
    "scrolled": true
   },
   "outputs": [
    {
     "name": "stdout",
     "output_type": "stream",
     "text": [
      "1 Parkwoods\n"
     ]
    },
    {
     "ename": "KeyError",
     "evalue": "'groups'",
     "output_type": "error",
     "traceback": [
      "\u001b[0;31m---------------------------------------------------------------------------\u001b[0m",
      "\u001b[0;31mKeyError\u001b[0m                                  Traceback (most recent call last)",
      "\u001b[0;32m<ipython-input-9-4353eb44a7d9>\u001b[0m in \u001b[0;36m<module>\u001b[0;34m()\u001b[0m\n\u001b[1;32m      1\u001b[0m toronto_venues = getNearbyVenues(names = data['Neighborhood'], \n\u001b[1;32m      2\u001b[0m                                    \u001b[0mlatitudes\u001b[0m \u001b[0;34m=\u001b[0m \u001b[0mdata\u001b[0m\u001b[0;34m[\u001b[0m\u001b[0;34m'Latitude'\u001b[0m\u001b[0;34m]\u001b[0m\u001b[0;34m,\u001b[0m\u001b[0;34m\u001b[0m\u001b[0m\n\u001b[0;32m----> 3\u001b[0;31m                                    longitudes = data['Longitude'])\n\u001b[0m",
      "\u001b[0;32m<ipython-input-8-8c429a70220c>\u001b[0m in \u001b[0;36mgetNearbyVenues\u001b[0;34m(names, latitudes, longitudes, radius)\u001b[0m\n\u001b[1;32m     18\u001b[0m \u001b[0;34m\u001b[0m\u001b[0m\n\u001b[1;32m     19\u001b[0m         \u001b[0;31m# make the GET request\u001b[0m\u001b[0;34m\u001b[0m\u001b[0;34m\u001b[0m\u001b[0m\n\u001b[0;32m---> 20\u001b[0;31m         \u001b[0mresults\u001b[0m \u001b[0;34m=\u001b[0m \u001b[0mrequests\u001b[0m\u001b[0;34m.\u001b[0m\u001b[0mget\u001b[0m\u001b[0;34m(\u001b[0m\u001b[0murl\u001b[0m\u001b[0;34m)\u001b[0m\u001b[0;34m.\u001b[0m\u001b[0mjson\u001b[0m\u001b[0;34m(\u001b[0m\u001b[0;34m)\u001b[0m\u001b[0;34m[\u001b[0m\u001b[0;34m\"response\"\u001b[0m\u001b[0;34m]\u001b[0m\u001b[0;34m[\u001b[0m\u001b[0;34m'groups'\u001b[0m\u001b[0;34m]\u001b[0m\u001b[0;34m[\u001b[0m\u001b[0;36m0\u001b[0m\u001b[0;34m]\u001b[0m\u001b[0;34m[\u001b[0m\u001b[0;34m'items'\u001b[0m\u001b[0;34m]\u001b[0m\u001b[0;34m\u001b[0m\u001b[0m\n\u001b[0m\u001b[1;32m     21\u001b[0m \u001b[0;34m\u001b[0m\u001b[0m\n\u001b[1;32m     22\u001b[0m         \u001b[0;31m# return only relevant information for each nearby venue\u001b[0m\u001b[0;34m\u001b[0m\u001b[0;34m\u001b[0m\u001b[0m\n",
      "\u001b[0;31mKeyError\u001b[0m: 'groups'"
     ]
    }
   ],
   "source": [
    "toronto_venues = getNearbyVenues(names = data['Neighborhood'], \n",
    "                                   latitudes = data['Latitude'], \n",
    "                                   longitudes = data['Longitude'])"
   ]
  },
  {
   "cell_type": "code",
   "execution_count": null,
   "metadata": {
    "scrolled": true
   },
   "outputs": [],
   "source": [
    "toronto_venues.head(15)"
   ]
  },
  {
   "cell_type": "markdown",
   "metadata": {},
   "source": [
    "#### Let's have a look at the number of venues we got"
   ]
  },
  {
   "cell_type": "code",
   "execution_count": null,
   "metadata": {},
   "outputs": [],
   "source": [
    "print(\"We have {} venues near all {} neighborhoods in Toronto\".format(toronto_venues.shape[0],len(toronto_venues['Neighborhood'].unique())))"
   ]
  },
  {
   "cell_type": "markdown",
   "metadata": {},
   "source": [
    "An important observation to make here is that although we have processed all the 103 neighborhoods we have data for 100 neighborhoods which means that foursquare has no data on venues within 500 meters radius of 3 neighborhoods."
   ]
  },
  {
   "cell_type": "markdown",
   "metadata": {},
   "source": [
    "#### Let's figure out which Neighborhoods are missing"
   ]
  },
  {
   "cell_type": "code",
   "execution_count": null,
   "metadata": {
    "scrolled": true
   },
   "outputs": [],
   "source": [
    "for i in data['Neighborhood']:\n",
    "    if i not in toronto_venues['Neighborhood'].unique():\n",
    "        print(i)"
   ]
  },
  {
   "cell_type": "markdown",
   "metadata": {},
   "source": [
    "### Now that we have the missing Neighborhoods let's take one of them and check our observation.    "
   ]
  },
  {
   "cell_type": "markdown",
   "metadata": {},
   "source": [
    "Let's take ***Islington Avenue*** as the target Neighborhood and check the co-ordinates (43.667856,-79.532242) in **Foursquare**."
   ]
  },
  {
   "cell_type": "code",
   "execution_count": null,
   "metadata": {},
   "outputs": [],
   "source": [
    "url = 'http://api.foursquare.com/v2/venues/explore?client_id={}&client_secret={}&v={}&ll={},{}&limit={}&radius={}'.format(CLIENT_ID, CLIENT_SECRET, VERSION,43.667856,-79.532242,100,500)"
   ]
  },
  {
   "cell_type": "code",
   "execution_count": null,
   "metadata": {},
   "outputs": [],
   "source": [
    "results = requests.get(url).json()\n",
    "results"
   ]
  },
  {
   "cell_type": "markdown",
   "metadata": {},
   "source": [
    "### The warning looks worth noticing since the 'items' is empty."
   ]
  },
  {
   "cell_type": "code",
   "execution_count": null,
   "metadata": {},
   "outputs": [],
   "source": [
    "results['response']['warning']['text']"
   ]
  },
  {
   "cell_type": "markdown",
   "metadata": {},
   "source": [
    "# 8. Let's expand our search area to 1.5 km."
   ]
  },
  {
   "cell_type": "code",
   "execution_count": null,
   "metadata": {
    "scrolled": true
   },
   "outputs": [],
   "source": [
    "toronto_venues = getNearbyVenues(names = data['Neighborhood'], \n",
    "                                   latitudes = data['Latitude'], \n",
    "                                   longitudes = data['Longitude'], radius=1500)"
   ]
  },
  {
   "cell_type": "code",
   "execution_count": null,
   "metadata": {
    "scrolled": true
   },
   "outputs": [],
   "source": [
    "toronto_venues.head(15)"
   ]
  },
  {
   "cell_type": "markdown",
   "metadata": {},
   "source": [
    "#### Let's have a look at the number of venues we got this time"
   ]
  },
  {
   "cell_type": "code",
   "execution_count": null,
   "metadata": {},
   "outputs": [],
   "source": [
    "print(\"We have {} venues near all {} neighborhoods in Toronto\".format(toronto_venues.shape[0],len(toronto_venues['Neighborhood'].unique())))"
   ]
  },
  {
   "cell_type": "markdown",
   "metadata": {},
   "source": [
    "### So we have got all the 103 Neighborhoods this time."
   ]
  },
  {
   "cell_type": "markdown",
   "metadata": {},
   "source": [
    "### Now let's check the number of venues per Neighborhood"
   ]
  },
  {
   "cell_type": "code",
   "execution_count": null,
   "metadata": {},
   "outputs": [],
   "source": [
    "# Number of venues per neighbourhood\n",
    "toronto_venues.groupby('Neighborhood')['Venue'].count()"
   ]
  },
  {
   "cell_type": "markdown",
   "metadata": {},
   "source": [
    "# 9. Analyze Each Neighborhood"
   ]
  },
  {
   "cell_type": "code",
   "execution_count": null,
   "metadata": {},
   "outputs": [],
   "source": [
    "print(\"Number of unique categories are : \",len(toronto_venues['Venue Category'].unique()))"
   ]
  },
  {
   "cell_type": "code",
   "execution_count": null,
   "metadata": {},
   "outputs": [],
   "source": [
    "# one hot encoding\n",
    "toronto_onehot = pd.get_dummies(toronto_venues[['Venue Category']], prefix=\"\", prefix_sep=\"\")\n",
    "\n",
    "# add neighborhood column back to dataframe\n",
    "toronto_onehot['Neighborhood_name'] = toronto_venues['Neighborhood'] \n",
    "\n",
    "# move neighborhood column to the first column\n",
    "fixed_columns = [toronto_onehot.columns[-1]] + list(toronto_onehot.columns[:-1])\n",
    "toronto_onehot = toronto_onehot[fixed_columns]\n",
    "print(toronto_onehot.shape[1]) # checking whether all the 334 categories are included and total number of columns should be 335\n",
    "toronto_onehot.head()"
   ]
  },
  {
   "cell_type": "markdown",
   "metadata": {},
   "source": [
    "### One problem that we faced during the craetion of this dataframe is that one of the 334 categories of the venues is called 'Neighborhood'. So we have to careful about giving a new name to the column. Here we have given the name 'Neighborhood_name'. Also the total number of column is 335 as expected."
   ]
  },
  {
   "cell_type": "code",
   "execution_count": null,
   "metadata": {},
   "outputs": [],
   "source": [
    "#the shape of the dataframe is :\n",
    "toronto_onehot.shape"
   ]
  },
  {
   "cell_type": "markdown",
   "metadata": {},
   "source": [
    "This shape looks perfect!!"
   ]
  },
  {
   "cell_type": "markdown",
   "metadata": {},
   "source": [
    "# 10. Group rows by neighborhood and by taking the mean of the frequency of occurrence of each category"
   ]
  },
  {
   "cell_type": "code",
   "execution_count": null,
   "metadata": {},
   "outputs": [],
   "source": [
    "toronto_grouped=toronto_onehot.groupby('Neighborhood_name').mean().reset_index()\n",
    "toronto_grouped"
   ]
  },
  {
   "cell_type": "markdown",
   "metadata": {},
   "source": [
    "### So let's take a neighbourhood and print it's top 5 most common venues."
   ]
  },
  {
   "cell_type": "code",
   "execution_count": null,
   "metadata": {},
   "outputs": [],
   "source": [
    "num_top_venues = 5\n",
    "\n",
    "for hood in toronto_grouped['Neighborhood_name']:\n",
    "    print(\"----\"+hood+\"----\")\n",
    "    temp = toronto_grouped[toronto_grouped['Neighborhood_name'] == hood].T.reset_index()\n",
    "    temp.columns = ['venue','freq']\n",
    "    temp = temp.iloc[1:]\n",
    "    temp['freq'] = temp['freq'].astype(float)\n",
    "    temp = temp.round({'freq': 2})\n",
    "    print(temp.sort_values('freq', ascending=False).reset_index(drop=True).head(num_top_venues))\n",
    "    print('\\n')"
   ]
  },
  {
   "cell_type": "markdown",
   "metadata": {},
   "source": [
    "# 11.  Let's put top ten venues of each neighborhood into a **Pandas** dataframe"
   ]
  },
  {
   "cell_type": "code",
   "execution_count": null,
   "metadata": {},
   "outputs": [],
   "source": [
    "def return_most_common_venues(row, num_top_venues):\n",
    "    row_categories = row.iloc[1:]\n",
    "    row_categories_sorted = row_categories.sort_values(ascending=False)\n",
    "    \n",
    "    return row_categories_sorted.index.values[0:num_top_venues]"
   ]
  },
  {
   "cell_type": "code",
   "execution_count": null,
   "metadata": {},
   "outputs": [],
   "source": [
    "num_top_venues = 10\n",
    "\n",
    "indicators = ['st', 'nd', 'rd']\n",
    "\n",
    "# create columns according to number of top venues\n",
    "columns = ['Neighborhood_name']\n",
    "for ind in np.arange(num_top_venues):\n",
    "    try:\n",
    "        columns.append('{}{} Most Common Venue'.format(ind+1, indicators[ind]))\n",
    "    except:\n",
    "        columns.append('{}th Most Common Venue'.format(ind+1))\n",
    "\n",
    "# create a new dataframe\n",
    "neighborhoods_venues_sorted = pd.DataFrame(columns=columns)\n",
    "neighborhoods_venues_sorted['Neighborhood_name'] = toronto_grouped['Neighborhood_name']\n",
    "\n",
    "for ind in np.arange(toronto_grouped.shape[0]):\n",
    "    neighborhoods_venues_sorted.iloc[ind, 1:] = return_most_common_venues(toronto_grouped.iloc[ind, :], num_top_venues)\n",
    "\n",
    "neighborhoods_venues_sorted"
   ]
  },
  {
   "cell_type": "markdown",
   "metadata": {},
   "source": [
    "# 12. Cluster Neighborhood"
   ]
  },
  {
   "cell_type": "code",
   "execution_count": null,
   "metadata": {},
   "outputs": [],
   "source": [
    "# set number of clusters\n",
    "kclusters = 5\n",
    "\n",
    "toronto_grouped_clustering = toronto_grouped.drop('Neighborhood_name', 1)\n",
    "\n",
    "# run k-means clustering\n",
    "kmeans = KMeans(n_clusters=kclusters, random_state=0).fit(toronto_grouped_clustering)\n",
    "\n",
    "# check cluster labels generated for each row in the dataframe\n",
    "print(len(kmeans.labels_))\n",
    "kmeans.labels_"
   ]
  },
  {
   "cell_type": "code",
   "execution_count": null,
   "metadata": {
    "scrolled": true
   },
   "outputs": [],
   "source": [
    "toronto_merged = data\n",
    "\n",
    "# add clustering labels\n",
    "toronto_merged['Cluster Labels'] = kmeans.labels_\n",
    "\n",
    "# merge toronto_grouped with toronto_data to add latitude/longitude for each neighborhood\n",
    "toronto_merged = toronto_merged.join(neighborhoods_venues_sorted.set_index('Neighborhood_name'), on='Neighborhood')\n",
    "toronto_merged"
   ]
  },
  {
   "cell_type": "code",
   "execution_count": null,
   "metadata": {},
   "outputs": [],
   "source": [
    "# create map\n",
    "map_clusters = folium.Map(location=[latitude, longitude], zoom_start=11)\n",
    "\n",
    "# set color scheme for the clusters\n",
    "x = np.arange(kclusters)\n",
    "ys = [i+x+(i*x)**2 for i in range(kclusters)]\n",
    "colors_array = cm.rainbow(np.linspace(0, 1, len(ys)))\n",
    "rainbow = [colors.rgb2hex(i) for i in colors_array]\n",
    "\n",
    "# add markers to the map\n",
    "markers_colors = []\n",
    "for lat, lon, poi, cluster in zip(toronto_merged['Latitude'], toronto_merged['Longitude'], toronto_merged['Neighborhood'], toronto_merged['Cluster Labels']):\n",
    "    label = folium.Popup(str(poi) + ' Cluster ' + str(cluster), parse_html=True)\n",
    "    folium.CircleMarker(\n",
    "        [lat, lon],\n",
    "        radius=5,\n",
    "        popup=label,\n",
    "        color=rainbow[cluster-1],\n",
    "        fill=True,\n",
    "        fill_color=rainbow[cluster-1],\n",
    "        fill_opacity=0.7).add_to(map_clusters)\n",
    "       \n",
    "map_clusters"
   ]
  },
  {
   "cell_type": "markdown",
   "metadata": {},
   "source": [
    "# 13. Examine the clusters"
   ]
  },
  {
   "cell_type": "markdown",
   "metadata": {},
   "source": [
    "### Cluster 1"
   ]
  },
  {
   "cell_type": "code",
   "execution_count": null,
   "metadata": {},
   "outputs": [],
   "source": [
    "toronto_merged.loc[toronto_merged['Cluster Labels'] == 0, toronto_merged.columns[[2] + list(range(5, toronto_merged.shape[1]))]]"
   ]
  },
  {
   "cell_type": "markdown",
   "metadata": {},
   "source": [
    "### Cluster 2"
   ]
  },
  {
   "cell_type": "code",
   "execution_count": null,
   "metadata": {
    "scrolled": true
   },
   "outputs": [],
   "source": [
    "toronto_merged.loc[toronto_merged['Cluster Labels'] == 1, toronto_merged.columns[[2] + list(range(5, toronto_merged.shape[1]))]]"
   ]
  },
  {
   "cell_type": "markdown",
   "metadata": {},
   "source": [
    "### Cluster 3"
   ]
  },
  {
   "cell_type": "code",
   "execution_count": null,
   "metadata": {
    "scrolled": true
   },
   "outputs": [],
   "source": [
    "toronto_merged.loc[toronto_merged['Cluster Labels'] == 2, toronto_merged.columns[[2] + list(range(5, toronto_merged.shape[1]))]]"
   ]
  },
  {
   "cell_type": "markdown",
   "metadata": {},
   "source": [
    "### Cluster 4"
   ]
  },
  {
   "cell_type": "code",
   "execution_count": null,
   "metadata": {},
   "outputs": [],
   "source": [
    "toronto_merged.loc[toronto_merged['Cluster Labels'] == 3, toronto_merged.columns[[2] + list(range(5, toronto_merged.shape[1]))]]"
   ]
  },
  {
   "cell_type": "markdown",
   "metadata": {},
   "source": [
    "### Cluster 5"
   ]
  },
  {
   "cell_type": "code",
   "execution_count": null,
   "metadata": {},
   "outputs": [],
   "source": [
    "toronto_merged.loc[toronto_merged['Cluster Labels'] == 4, toronto_merged.columns[[2] + list(range(5, toronto_merged.shape[1]))]]"
   ]
  },
  {
   "cell_type": "code",
   "execution_count": null,
   "metadata": {},
   "outputs": [],
   "source": []
  }
 ],
 "metadata": {
  "kernelspec": {
   "display_name": "Python 3",
   "language": "python",
   "name": "python3"
  },
  "language_info": {
   "codemirror_mode": {
    "name": "ipython",
    "version": 3
   },
   "file_extension": ".py",
   "mimetype": "text/x-python",
   "name": "python",
   "nbconvert_exporter": "python",
   "pygments_lexer": "ipython3",
   "version": "3.6.5"
  }
 },
 "nbformat": 4,
 "nbformat_minor": 2
}
